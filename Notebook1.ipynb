{
 "cells": [
  {
   "cell_type": "code",
   "execution_count": 1,
   "id": "982fd79e-f19f-443a-91f2-443600607c3f",
   "metadata": {},
   "outputs": [],
   "source": [
    "#Test: Essayer d'2crire pour voir si ça foctionne"
   ]
  },
  {
   "cell_type": "code",
   "execution_count": null,
   "id": "4d88d2a2-bfc4-46a6-948b-d77581a3999a",
   "metadata": {},
   "outputs": [],
   "source": []
  }
 ],
 "metadata": {
  "kernelspec": {
   "display_name": "Python [conda env:base] *",
   "language": "python",
   "name": "conda-base-py"
  },
  "language_info": {
   "codemirror_mode": {
    "name": "ipython",
    "version": 3
   },
   "file_extension": ".py",
   "mimetype": "text/x-python",
   "name": "python",
   "nbconvert_exporter": "python",
   "pygments_lexer": "ipython3",
   "version": "3.12.7"
  }
 },
 "nbformat": 4,
 "nbformat_minor": 5
}
