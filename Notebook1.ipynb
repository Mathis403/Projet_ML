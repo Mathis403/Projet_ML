{
 "cells": [
  {
   "cell_type": "code",
   "execution_count": 1,
   "id": "982fd79e-f19f-443a-91f2-443600607c3f",
   "metadata": {},
   "outputs": [],
   "source": [
    "#Test: Essayer d'2crire pour voir si ça foctionne"
   ]
  },
  {
   "cell_type": "code",
   "id": "4d88d2a2-bfc4-46a6-948b-d77581a3999a",
   "metadata": {
    "ExecuteTime": {
     "end_time": "2025-10-22T07:56:19.274529Z",
     "start_time": "2025-10-22T07:56:19.266474Z"
    }
   },
   "source": "import pandas as pd",
   "outputs": [],
   "execution_count": 2
  }
 ],
 "metadata": {
  "kernelspec": {
   "display_name": "Python [conda env:base] *",
   "language": "python",
   "name": "conda-base-py"
  },
  "language_info": {
   "codemirror_mode": {
    "name": "ipython",
    "version": 3
   },
   "file_extension": ".py",
   "mimetype": "text/x-python",
   "name": "python",
   "nbconvert_exporter": "python",
   "pygments_lexer": "ipython3",
   "version": "3.12.7"
  }
 },
 "nbformat": 4,
 "nbformat_minor": 5
}
