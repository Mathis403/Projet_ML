{
 "cells": [
  {
   "cell_type": "code",
   "execution_count": 1,
   "id": "982fd79e-f19f-443a-91f2-443600607c3f",
   "metadata": {},
   "outputs": [],
   "source": [
    "#Test: Essayer d'2crire pour voir si ça foctionne"
   ]
  },
  {
   "cell_type": "code",
   "id": "4d88d2a2-bfc4-46a6-948b-d77581a3999a",
   "metadata": {
    "ExecuteTime": {
     "end_time": "2025-10-22T08:03:28.704988Z",
     "start_time": "2025-10-22T08:03:28.684693Z"
    }
   },
   "source": "import pandas as pd",
   "outputs": [],
   "execution_count": 3
  },
  {
   "metadata": {
    "ExecuteTime": {
     "end_time": "2025-10-22T08:03:44.596852Z",
     "start_time": "2025-10-22T08:03:44.584494Z"
    }
   },
   "cell_type": "code",
   "source": "print(\"test\")",
   "id": "a12df630cc4e2dd7",
   "outputs": [
    {
     "name": "stdout",
     "output_type": "stream",
     "text": [
      "test\n"
     ]
    }
   ],
   "execution_count": 4
  },
  {
   "metadata": {},
   "cell_type": "code",
   "outputs": [],
   "execution_count": null,
   "source": "",
   "id": "11b7e28433a499c4"
  }
 ],
 "metadata": {
  "kernelspec": {
   "display_name": "Python [conda env:base] *",
   "language": "python",
   "name": "conda-base-py"
  },
  "language_info": {
   "codemirror_mode": {
    "name": "ipython",
    "version": 3
   },
   "file_extension": ".py",
   "mimetype": "text/x-python",
   "name": "python",
   "nbconvert_exporter": "python",
   "pygments_lexer": "ipython3",
   "version": "3.12.7"
  }
 },
 "nbformat": 4,
 "nbformat_minor": 5
}
